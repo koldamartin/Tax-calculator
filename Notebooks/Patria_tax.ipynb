{
 "cells":[
  {
   "cell_type":"code",
   "source":[
    "%pip install openpyxl"
   ],
   "execution_count":1,
   "outputs":[
    {
     "name":"stdout",
     "text":[
      "Collecting openpyxl\r\n",
      "  Downloading openpyxl-3.1.2-py2.py3-none-any.whl (249 kB)\r\n",
      "\u001b[?25l     \u001b[90m━━━━━━━━━━━━━━━━━━━━━━━━━━━━━━━━━━━━━━━━\u001b[0m \u001b[32m0.0\/250.0 kB\u001b[0m \u001b[31m?\u001b[0m eta \u001b[36m-:--:--\u001b[0m\r\u001b[2K     \u001b[90m━━━━━━━━━━━━━━━━━━━━━━━━━━━━━━━━━━━━━━\u001b[0m \u001b[32m250.0\/250.0 kB\u001b[0m \u001b[31m21.8 MB\/s\u001b[0m eta \u001b[36m0:00:00\u001b[0m\r\n",
      "\u001b[?25hCollecting et-xmlfile (from openpyxl)\r\n",
      "  Downloading et_xmlfile-1.1.0-py3-none-any.whl (4.7 kB)\r\n",
      "Installing collected packages: et-xmlfile, openpyxl\r\n",
      "Successfully installed et-xmlfile-1.1.0 openpyxl-3.1.2\r\n",
      "\r\n",
      "\u001b[1m[\u001b[0m\u001b[34;49mnotice\u001b[0m\u001b[1;39;49m]\u001b[0m\u001b[39;49m A new release of pip is available: \u001b[0m\u001b[31;49m23.1.2\u001b[0m\u001b[39;49m -> \u001b[0m\u001b[32;49m24.0\u001b[0m\r\n",
      "\u001b[1m[\u001b[0m\u001b[34;49mnotice\u001b[0m\u001b[1;39;49m]\u001b[0m\u001b[39;49m To update, run: \u001b[0m\u001b[32;49mpip install --upgrade pip\u001b[0m\r\n",
      "Note: you may need to restart the kernel to use updated packages.\n"
     ],
     "output_type":"stream"
    }
   ],
   "metadata":{
    "datalore":{
     "node_id":"qjJpQ8gYx0bfNbhHhJAAJN",
     "type":"CODE",
     "hide_input_from_viewers":true,
     "hide_output_from_viewers":true
    }
   }
  },
  {
   "cell_type":"code",
   "source":[
    "import pandas as pd"
   ],
   "execution_count":2,
   "outputs":[
    
   ],
   "metadata":{
    "datalore":{
     "node_id":"5OAxaCZzmnNEvnfhtpLMXG",
     "type":"CODE",
     "hide_input_from_viewers":true,
     "hide_output_from_viewers":true
    }
   }
  },
  {
   "cell_type":"code",
   "source":[
    "countries_shortcuts = [\"US\", \"IE\", \"FR\", \"GB\", \"CH\", \"NL\", \"JP\", \"CA\", \"LU\", \"DE\", \"JE\", \"ES\", \"BE\", \"AT\", \"PT\", \"DK\", \"CZ\"]\n",
    "countries_full = [\"USA\", \"Irsko\", \"Francie\", \"Velká Británie\", \"Švýcarsko\", \"Nizozemsko\", \"Japonsko\", \"Kanada\",\n",
    "                  \"Lucembursko\", \"Německo\", \"Jersey\", \"Španělsko\", \"Belgie\", \"Rakousko\", \"Portugalsko\", \"Dánsko\", \"Česko\"]\n",
    "countries_data = pd.DataFrame({'shortcuts': countries_shortcuts, 'full names': countries_full})\n",
    "\n",
    "#jednotné kurzy za rok 2023 jsou níže\n",
    "USD_UFX = 22.14\n",
    "GBX_UFX = 0.2759\n",
    "GBP_UFX = GBX_UFX * 100\n",
    "EUR_UFX = 23.97\n",
    "CHF_UFX = 24.69\n",
    "CZK_UFX = 1\n",
    "\n",
    "currencies_list = [\"USD\", \"GBX\", \"GBP\", \"EUR\", \"CHF\", \"CZK\"]\n",
    "unified_forex = [USD_UFX, GBX_UFX, GBP_UFX, EUR_UFX, CHF_UFX, CZK_UFX]\n",
    "currencies_data = pd.DataFrame({'name': currencies_list, 'value': unified_forex})"
   ],
   "execution_count":3,
   "outputs":[
    
   ],
   "metadata":{
    "datalore":{
     "node_id":"iighcXDNNuG6rLsmk0gHBk",
     "type":"CODE",
     "hide_input_from_viewers":true,
     "hide_output_from_viewers":true
    }
   }
  },
  {
   "cell_type":"code",
   "source":[
    "def process_dividend_excel(excel_file, first, last, bottom_rows):\n",
    "    excel_file = excel_file.drop(range(first, last)) # Drop the first 5 rows (indexed from 0 to 4)\n",
    "    num_rows = excel_file.shape[0] # Find the total number of rows\n",
    "    new_num_rows = num_rows - bottom_rows # Subtract 2 from total number of rows\n",
    "    excel_file = excel_file[:new_num_rows] # Slice the dataframe to exclude the last 2 rows\n",
    "    excel_file.columns = excel_file.iloc[0] # Assigning the first row values as column names\n",
    "    excel_file = excel_file.drop(excel_file.index[0]) # Dropping the first row as it's now column names\n",
    "    return excel_file"
   ],
   "execution_count":4,
   "outputs":[
    
   ],
   "metadata":{
    "datalore":{
     "node_id":"FM1lWnZRA7I7oc8PRjFR4u",
     "type":"CODE",
     "hide_input_from_viewers":true,
     "hide_output_from_viewers":true
    }
   }
  },
  {
   "cell_type":"markdown",
   "source":[
    "# Capital Gains"
   ],
   "attachments":{
    
   },
   "metadata":{
    "datalore":{
     "node_id":"pkiiScayhS2uDN0zLdT7NX",
     "type":"MD",
     "hide_input_from_viewers":true,
     "hide_output_from_viewers":true
    }
   }
  },
  {
   "cell_type":"code",
   "source":[
    "df_cap = pd.read_excel(\"11899766_2023_KALKULACE (1).XLSX\", sheet_name=\"Souhrn\", usecols=\"A:W\")"
   ],
   "execution_count":5,
   "outputs":[
    {
     "name":"stderr",
     "text":[
      "\/opt\/python\/envs\/default\/lib\/python3.8\/site-packages\/openpyxl\/reader\/workbook.py:118: UserWarning: Print area cannot be set to Defined name: 'AT0000652011 (CZK)'!$A:$AB.\n",
      "  warn(f\"Print area cannot be set to Defined name: {defn.value}.\")\n",
      "\/opt\/python\/envs\/default\/lib\/python3.8\/site-packages\/openpyxl\/reader\/workbook.py:118: UserWarning: Print area cannot be set to Defined name: 'CZ0005112300 (CZK)'!$A:$AB.\n",
      "  warn(f\"Print area cannot be set to Defined name: {defn.value}.\")\n",
      "\/opt\/python\/envs\/default\/lib\/python3.8\/site-packages\/openpyxl\/reader\/workbook.py:118: UserWarning: Print area cannot be set to Defined name: 'CZ0008019106 (CZK)'!$A:$AB.\n",
      "  warn(f\"Print area cannot be set to Defined name: {defn.value}.\")\n",
      "\/opt\/python\/envs\/default\/lib\/python3.8\/site-packages\/openpyxl\/reader\/workbook.py:118: UserWarning: Print area cannot be set to Defined name: 'CZ0008040318 (CZK)'!$A:$AB.\n",
      "  warn(f\"Print area cannot be set to Defined name: {defn.value}.\")\n",
      "\/opt\/python\/envs\/default\/lib\/python3.8\/site-packages\/openpyxl\/reader\/workbook.py:118: UserWarning: Print area cannot be set to Defined name: 'CZ0009008942 (CZK)'!$A:$AB.\n",
      "  warn(f\"Print area cannot be set to Defined name: {defn.value}.\")\n",
      "\/opt\/python\/envs\/default\/lib\/python3.8\/site-packages\/openpyxl\/reader\/workbook.py:118: UserWarning: Print area cannot be set to Defined name: 'CZ0009009874 (CZK)'!$A:$AB.\n",
      "  warn(f\"Print area cannot be set to Defined name: {defn.value}.\")\n",
      "\/opt\/python\/envs\/default\/lib\/python3.8\/site-packages\/openpyxl\/reader\/workbook.py:118: UserWarning: Print area cannot be set to Defined name: 'DE0002635307 (EUR)'!$A:$AB.\n",
      "  warn(f\"Print area cannot be set to Defined name: {defn.value}.\")\n",
      "\/opt\/python\/envs\/default\/lib\/python3.8\/site-packages\/openpyxl\/reader\/workbook.py:118: UserWarning: Print area cannot be set to Defined name: 'IE00B53SZB19 (EUR)'!$A:$AB.\n",
      "  warn(f\"Print area cannot be set to Defined name: {defn.value}.\")\n",
      "\/opt\/python\/envs\/default\/lib\/python3.8\/site-packages\/openpyxl\/reader\/workbook.py:118: UserWarning: Print area cannot be set to Defined name: 'IE00BKM4GZ66 (EUR)'!$A:$AB.\n",
      "  warn(f\"Print area cannot be set to Defined name: {defn.value}.\")\n",
      "\/opt\/python\/envs\/default\/lib\/python3.8\/site-packages\/openpyxl\/reader\/workbook.py:118: UserWarning: Print area cannot be set to Defined name: Souhrn!$A:$W.\n",
      "  warn(f\"Print area cannot be set to Defined name: {defn.value}.\")\n"
     ],
     "output_type":"stream"
    }
   ],
   "metadata":{
    "datalore":{
     "node_id":"YECAD1tMLCDQesi4jX2lBK",
     "type":"CODE",
     "hide_input_from_viewers":true,
     "hide_output_from_viewers":true
    }
   }
  },
  {
   "cell_type":"code",
   "source":[
    "df_cap = process_dividend_excel(df_cap, first=0, last=6, bottom_rows=9)"
   ],
   "execution_count":6,
   "outputs":[
    
   ],
   "metadata":{
    "datalore":{
     "node_id":"Nec78uLnQCzvQkvSobuzq7",
     "type":"CODE",
     "hide_input_from_viewers":true,
     "hide_output_from_viewers":true
    }
   }
  },
  {
   "cell_type":"code",
   "source":[
    "# drop all columns from df_cap except the last 9 columns and first 3 columns \n",
    "df_cap = pd.concat([df_cap.iloc[:,:6], df_cap.iloc[:,-9:]], axis=1)\n",
    "\n",
    "df_cap"
   ],
   "execution_count":7,
   "outputs":[
    {
     "data":{
      "text\/html":[
       "<div>\n",
       "<style scoped>\n",
       "    .dataframe tbody tr th:only-of-type {\n",
       "        vertical-align: middle;\n",
       "    }\n",
       "\n",
       "    .dataframe tbody tr th {\n",
       "        vertical-align: top;\n",
       "    }\n",
       "\n",
       "    .dataframe thead th {\n",
       "        text-align: right;\n",
       "    }\n",
       "<\/style>\n",
       "<table border=\"1\" class=\"dataframe\">\n",
       "  <thead>\n",
       "    <tr style=\"text-align: right;\">\n",
       "      <th>6<\/th>\n",
       "      <th>ISIN<\/th>\n",
       "      <th>Název<\/th>\n",
       "      <th>Měna<\/th>\n",
       "      <th>Upozornění<\/th>\n",
       "      <th>Počáteční \\nstav<\/th>\n",
       "      <th>Konečný \\nstav<\/th>\n",
       "      <th>Příjmy<\/th>\n",
       "      <th>Výdaje<\/th>\n",
       "      <th>Zisk\/ztráta<\/th>\n",
       "      <th>Poplatky<\/th>\n",
       "      <th>Čistý zisk\/ztráta<\/th>\n",
       "      <th>Příjmy v CZK<\/th>\n",
       "      <th>Výdaje v CZK<\/th>\n",
       "      <th>Čistý zisk\/ztráta v CZK<\/th>\n",
       "      <th>Třída<\/th>\n",
       "    <\/tr>\n",
       "  <\/thead>\n",
       "  <tbody>\n",
       "    <tr>\n",
       "      <th>7<\/th>\n",
       "      <td>CZ0005112300<\/td>\n",
       "      <td>CEZ<\/td>\n",
       "      <td>CZK<\/td>\n",
       "      <td>NaN<\/td>\n",
       "      <td>17<\/td>\n",
       "      <td>17<\/td>\n",
       "      <td>9616<\/td>\n",
       "      <td>-7450.5<\/td>\n",
       "      <td>2255.5<\/td>\n",
       "      <td>-90<\/td>\n",
       "      <td>2165.5<\/td>\n",
       "      <td>9616<\/td>\n",
       "      <td>-7450.5<\/td>\n",
       "      <td>2165.5<\/td>\n",
       "      <td>Equities<\/td>\n",
       "    <\/tr>\n",
       "    <tr>\n",
       "      <th>8<\/th>\n",
       "      <td>CZ0009008942<\/td>\n",
       "      <td>COLTCZ<\/td>\n",
       "      <td>CZK<\/td>\n",
       "      <td>NaN<\/td>\n",
       "      <td>9<\/td>\n",
       "      <td>17<\/td>\n",
       "      <td>NaN<\/td>\n",
       "      <td>NaN<\/td>\n",
       "      <td>NaN<\/td>\n",
       "      <td>NaN<\/td>\n",
       "      <td>NaN<\/td>\n",
       "      <td>NaN<\/td>\n",
       "      <td>NaN<\/td>\n",
       "      <td>NaN<\/td>\n",
       "      <td>Equities<\/td>\n",
       "    <\/tr>\n",
       "    <tr>\n",
       "      <th>9<\/th>\n",
       "      <td>AT0000652011<\/td>\n",
       "      <td>ERSTE GROUP BANK<\/td>\n",
       "      <td>CZK<\/td>\n",
       "      <td>NaN<\/td>\n",
       "      <td>6<\/td>\n",
       "      <td>6<\/td>\n",
       "      <td>NaN<\/td>\n",
       "      <td>NaN<\/td>\n",
       "      <td>NaN<\/td>\n",
       "      <td>NaN<\/td>\n",
       "      <td>NaN<\/td>\n",
       "      <td>NaN<\/td>\n",
       "      <td>NaN<\/td>\n",
       "      <td>NaN<\/td>\n",
       "      <td>Equities<\/td>\n",
       "    <\/tr>\n",
       "    <tr>\n",
       "      <th>10<\/th>\n",
       "      <td>CZ0008019106<\/td>\n",
       "      <td>KOMERCNI BANKA<\/td>\n",
       "      <td>CZK<\/td>\n",
       "      <td>NaN<\/td>\n",
       "      <td>11<\/td>\n",
       "      <td>20<\/td>\n",
       "      <td>NaN<\/td>\n",
       "      <td>NaN<\/td>\n",
       "      <td>NaN<\/td>\n",
       "      <td>NaN<\/td>\n",
       "      <td>NaN<\/td>\n",
       "      <td>NaN<\/td>\n",
       "      <td>NaN<\/td>\n",
       "      <td>NaN<\/td>\n",
       "      <td>Equities<\/td>\n",
       "    <\/tr>\n",
       "    <tr>\n",
       "      <th>11<\/th>\n",
       "      <td>CZ0008040318<\/td>\n",
       "      <td>MONETA MONEY BANK<\/td>\n",
       "      <td>CZK<\/td>\n",
       "      <td>NaN<\/td>\n",
       "      <td>38<\/td>\n",
       "      <td>38<\/td>\n",
       "      <td>NaN<\/td>\n",
       "      <td>NaN<\/td>\n",
       "      <td>NaN<\/td>\n",
       "      <td>NaN<\/td>\n",
       "      <td>NaN<\/td>\n",
       "      <td>NaN<\/td>\n",
       "      <td>NaN<\/td>\n",
       "      <td>NaN<\/td>\n",
       "      <td>Equities<\/td>\n",
       "    <\/tr>\n",
       "    <tr>\n",
       "      <th>12<\/th>\n",
       "      <td>CZ0009009874<\/td>\n",
       "      <td>PILULKA LEKARNY<\/td>\n",
       "      <td>CZK<\/td>\n",
       "      <td>NaN<\/td>\n",
       "      <td>10<\/td>\n",
       "      <td>0<\/td>\n",
       "      <td>4520<\/td>\n",
       "      <td>-9990<\/td>\n",
       "      <td>-5380<\/td>\n",
       "      <td>-90<\/td>\n",
       "      <td>-5470<\/td>\n",
       "      <td>4520<\/td>\n",
       "      <td>-9990<\/td>\n",
       "      <td>-5470<\/td>\n",
       "      <td>Equities<\/td>\n",
       "    <\/tr>\n",
       "    <tr>\n",
       "      <th>13<\/th>\n",
       "      <td>IE00BKM4GZ66<\/td>\n",
       "      <td>iShares MSCI Core Emerging Markets<\/td>\n",
       "      <td>EUR<\/td>\n",
       "      <td>NaN<\/td>\n",
       "      <td>20.6599<\/td>\n",
       "      <td>20.6599<\/td>\n",
       "      <td>NaN<\/td>\n",
       "      <td>NaN<\/td>\n",
       "      <td>NaN<\/td>\n",
       "      <td>NaN<\/td>\n",
       "      <td>NaN<\/td>\n",
       "      <td>NaN<\/td>\n",
       "      <td>NaN<\/td>\n",
       "      <td>NaN<\/td>\n",
       "      <td>Equities - ETF<\/td>\n",
       "    <\/tr>\n",
       "    <tr>\n",
       "      <th>14<\/th>\n",
       "      <td>IE00B53SZB19<\/td>\n",
       "      <td>iShares NASDAQ 100<\/td>\n",
       "      <td>EUR<\/td>\n",
       "      <td>NaN<\/td>\n",
       "      <td>1.7574<\/td>\n",
       "      <td>3.0141<\/td>\n",
       "      <td>NaN<\/td>\n",
       "      <td>NaN<\/td>\n",
       "      <td>NaN<\/td>\n",
       "      <td>NaN<\/td>\n",
       "      <td>NaN<\/td>\n",
       "      <td>NaN<\/td>\n",
       "      <td>NaN<\/td>\n",
       "      <td>NaN<\/td>\n",
       "      <td>Equities - ETF<\/td>\n",
       "    <\/tr>\n",
       "    <tr>\n",
       "      <th>15<\/th>\n",
       "      <td>DE0002635307<\/td>\n",
       "      <td>iShares STOXX Europe 600<\/td>\n",
       "      <td>EUR<\/td>\n",
       "      <td>NaN<\/td>\n",
       "      <td>13.1324<\/td>\n",
       "      <td>13.1324<\/td>\n",
       "      <td>NaN<\/td>\n",
       "      <td>NaN<\/td>\n",
       "      <td>NaN<\/td>\n",
       "      <td>NaN<\/td>\n",
       "      <td>NaN<\/td>\n",
       "      <td>NaN<\/td>\n",
       "      <td>NaN<\/td>\n",
       "      <td>NaN<\/td>\n",
       "      <td>Equities - ETF<\/td>\n",
       "    <\/tr>\n",
       "  <\/tbody>\n",
       "<\/table>\n",
       "<\/div>"
      ]
     },
     "metadata":{
      
     },
     "output_type":"display_data"
    }
   ],
   "metadata":{
    "datalore":{
     "node_id":"UPTFpnrY7ngmx59TxrhKWc",
     "type":"CODE",
     "hide_input_from_viewers":true,
     "hide_output_from_viewers":true
    }
   }
  },
  {
   "cell_type":"code",
   "source":[
    "def profit(currency):\n",
    "\n",
    "    #Filter the dataframe to only include rows with the currency name and the \"Market sell\" action\n",
    "    sells_data = df_cap.loc[(df_cap[\"Měna\"] == currency) & (~df_cap[\"Čistý zisk\/ztráta\"].isnull())]\n",
    "    sells = sells_data[\"Čistý zisk\/ztráta\"] \n",
    "\n",
    "    return sells.sum()"
   ],
   "execution_count":8,
   "outputs":[
    
   ],
   "metadata":{
    "datalore":{
     "node_id":"QNLSLJOwEgnBssyeKNVvjq",
     "type":"CODE",
     "hide_input_from_viewers":true,
     "hide_output_from_viewers":true
    }
   }
  },
  {
   "cell_type":"code",
   "source":[
    "profit(\"CZK\")"
   ],
   "execution_count":9,
   "outputs":[
    {
     "data":{
      "text\/plain":[
       "-3304.5"
      ]
     },
     "metadata":{
      
     },
     "output_type":"display_data"
    }
   ],
   "metadata":{
    "datalore":{
     "node_id":"GGX6AZi1ZjCwt1ByOZnDOw",
     "type":"CODE",
     "hide_input_from_viewers":true,
     "hide_output_from_viewers":true
    }
   }
  },
  {
   "cell_type":"code",
   "source":[
    "def income(currency):\n",
    "\n",
    "    #Filter the dataframe to only include rows with the currency name and the \"Market sell\" action\n",
    "    sells_data = df_cap.loc[(df_cap[\"Měna\"] == currency) & (~df_cap[\"Příjmy v CZK\"].isnull())]\n",
    "    sells = sells_data[\"Příjmy\"]\n",
    "\n",
    "    return sells.sum()"
   ],
   "execution_count":10,
   "outputs":[
    
   ],
   "metadata":{
    "datalore":{
     "node_id":"MuJ5K9vuaW3dKqSAzBZ2mT",
     "type":"CODE",
     "hide_input_from_viewers":true,
     "hide_output_from_viewers":true
    }
   }
  },
  {
   "cell_type":"code",
   "source":[
    "income(\"CZK\")"
   ],
   "execution_count":11,
   "outputs":[
    {
     "data":{
      "text\/plain":[
       "14136"
      ]
     },
     "metadata":{
      
     },
     "output_type":"display_data"
    }
   ],
   "metadata":{
    "datalore":{
     "node_id":"0z4mIhCAI8mR8X7P5HnuU0",
     "type":"CODE",
     "hide_input_from_viewers":true,
     "hide_output_from_viewers":true
    }
   }
  },
  {
   "cell_type":"code",
   "source":[
    "def paragraph10():\n",
    "    total_income = 0\n",
    "    total_profit = 0\n",
    "\n",
    "    for (index,row) in currencies_data.iterrows():\n",
    "        one_income = income(row['name']) * row['value']\n",
    "        one_profit = profit(row['name']) * row['value']\n",
    "        total_income += one_income\n",
    "        total_profit += one_profit\n",
    "    total_expenses = total_income - total_profit\n",
    "    print(f\"Celkové zdanitelné příjmy z prodeje cenných papírů: {total_income:.0f} CZK, Příloha 2, tabulka 2, sloupec 2 Příjmy, řádek 207\")\n",
    "    print(f\"Celkem výdaje spojené s pořízením cenných papírů: {total_expenses:.0f} CZK, Příloha 2, tabulka 2, sloupec 3 Výdaje, řádek 208\")\n",
    "    print(f\"Dílčí základ daně dle §10: {total_profit:.0f} CZK, Příloha 2, tabulka 2 Úhrn, řádek 209\")"
   ],
   "execution_count":12,
   "outputs":[
    
   ],
   "metadata":{
    "datalore":{
     "node_id":"jDePKeiaHOZHLY4t2FRLVX",
     "type":"CODE",
     "hide_input_from_viewers":true,
     "hide_output_from_viewers":true
    }
   }
  },
  {
   "cell_type":"code",
   "source":[
    "# 1. Zákon o daních z příjmu §10\n",
    "print(\"\\n1. Zákon o daních z příjmu §10.\\n\")\n",
    "paragraph10()"
   ],
   "execution_count":13,
   "outputs":[
    {
     "name":"stdout",
     "text":[
      "\n",
      "1. Zákon o daních z příjmu §10.\n",
      "\n",
      "Celkové zdanitelné příjmy z prodeje cenných papírů: 14136 CZK, Příloha 2, tabulka 2, sloupec 2 Příjmy, řádek 207\n",
      "Celkem výdaje spojené s pořízením cenných papírů: 17440 CZK, Příloha 2, tabulka 2, sloupec 3 Výdaje, řádek 208\n",
      "Dílčí základ daně dle §10: -3304 CZK, Příloha 2, tabulka 2 Úhrn, řádek 209\n"
     ],
     "output_type":"stream"
    }
   ],
   "metadata":{
    "datalore":{
     "node_id":"qnpPhtxNyPA7wQgzYsbOK4",
     "type":"CODE",
     "hide_input_from_viewers":true,
     "hide_output_from_viewers":true
    }
   }
  },
  {
   "cell_type":"markdown",
   "source":[
    "# Dividends"
   ],
   "attachments":{
    
   },
   "metadata":{
    "datalore":{
     "node_id":"gtngDWKndK2U7ai0NNe28U",
     "type":"MD",
     "hide_input_from_viewers":true,
     "hide_output_from_viewers":true
    }
   }
  },
  {
   "cell_type":"code",
   "source":[
    "df_divi = pd.read_excel(\"11899766_2023_DIVIDENDY (1).XLSX\", sheet_name=\"Dividendy\", usecols=\"A:L\")"
   ],
   "execution_count":14,
   "outputs":[
    {
     "name":"stderr",
     "text":[
      "\/opt\/python\/envs\/default\/lib\/python3.8\/site-packages\/openpyxl\/reader\/workbook.py:118: UserWarning: Print area cannot be set to Defined name: Dividendy!$A:$K.\n",
      "  warn(f\"Print area cannot be set to Defined name: {defn.value}.\")\n"
     ],
     "output_type":"stream"
    }
   ],
   "metadata":{
    "datalore":{
     "node_id":"w3w6ZmTdZvhPzRa7B20Nlz",
     "type":"CODE",
     "hide_input_from_viewers":true,
     "hide_output_from_viewers":true
    }
   }
  },
  {
   "cell_type":"code",
   "source":[
    "def dividend_income(currency, ISIN):\n",
    "    dividend_data = df_divi.loc[(df_divi[\"Měna\"] == currency) & (df_divi[\"ISIN\"].str[:2] == ISIN)]\n",
    "    dividend_gross = dividend_data[\"Hrubá dividenda\"]\n",
    "    return dividend_gross.sum()"
   ],
   "execution_count":15,
   "outputs":[
    
   ],
   "metadata":{
    "datalore":{
     "node_id":"Q94OyIJHuJfPMQEqPBuF5q",
     "type":"CODE",
     "hide_input_from_viewers":true,
     "hide_output_from_viewers":true
    }
   }
  },
  {
   "cell_type":"code",
   "source":[
    "def withholding_tax(currency, ISIN):\n",
    "    tax_data = df_divi.loc[(df_divi[\"Měna\"] == currency) & (df_divi[\"ISIN\"].str[:2] == ISIN)]\n",
    "    withholding_tax = tax_data[\"Srážková daň\"]\n",
    "    return withholding_tax.sum()"
   ],
   "execution_count":16,
   "outputs":[
    
   ],
   "metadata":{
    "datalore":{
     "node_id":"PHS1ALthvNSMPMvcEdtEGQ",
     "type":"CODE",
     "hide_input_from_viewers":true,
     "hide_output_from_viewers":true
    }
   }
  },
  {
   "cell_type":"code",
   "source":[
    "def paragraph8():\n",
    "    divi_all = 0\n",
    "    for country in countries_data[\"shortcuts\"]:\n",
    "        divi_one_country = 0\n",
    "        tax_one_country = 0\n",
    "\n",
    "        for (index, row) in currencies_data.iterrows():\n",
    "            divi_one_country_one_currency = dividend_income(row['name'], country) * row['value']\n",
    "            divi_one_country += divi_one_country_one_currency\n",
    "            tax_country_one_currency = withholding_tax(row['name'], country) * row['value']\n",
    "            tax_one_country += tax_country_one_currency\n",
    "        divi_all += divi_one_country\n",
    "        if divi_one_country > 0:\n",
    "            country_df = countries_data[countries_data['shortcuts'] == country]\n",
    "            full_country_name = country_df.iloc[0]['full names']\n",
    "            print(f\"Hrubá hodnota připsaných dividend ze státu {full_country_name} je {round(divi_one_country,1)} CZK\")\n",
    "            print(f\"Již zaplacená daň ze státu {full_country_name} je {round(tax_one_country,1)} CZK\")\n",
    "    print(f\"Celková hrubá hodnota připsaných dividend je {round(divi_all,1)} CZK\")"
   ],
   "execution_count":17,
   "outputs":[
    
   ],
   "metadata":{
    "datalore":{
     "node_id":"nkr9I07uPKzJtMMqRf0iRY",
     "type":"CODE",
     "hide_input_from_viewers":true,
     "hide_output_from_viewers":true
    }
   }
  },
  {
   "cell_type":"code",
   "source":[
    "print(\"\\n1. Příjmy podle §8 ze zdrojů v zahraničí.\\n\")\n",
    "df_divi = process_dividend_excel(df_divi, first=0, last=5, bottom_rows=2)\n",
    "paragraph8()"
   ],
   "execution_count":18,
   "outputs":[
    {
     "name":"stdout",
     "text":[
      "\n",
      "1. Příjmy podle §8 ze zdrojů v zahraničí.\n",
      "\n",
      "Hrubá hodnota připsaných dividend ze státu Německo je 399.6 CZK\n",
      "Již zaplacená daň ze státu Německo je 0.0 CZK\n",
      "Hrubá hodnota připsaných dividend ze státu Rakousko je 273.3 CZK\n",
      "Již zaplacená daň ze státu Rakousko je 75.0 CZK\n",
      "Celková hrubá hodnota připsaných dividend je 672.8 CZK\n"
     ],
     "output_type":"stream"
    }
   ],
   "metadata":{
    "datalore":{
     "node_id":"wntyfXdFp5gV8Vhi1JFMqL",
     "type":"CODE",
     "hide_input_from_viewers":true,
     "hide_output_from_viewers":true
    }
   }
  },
  {
   "cell_type":"code",
   "source":[
    "df_divi"
   ],
   "execution_count":19,
   "outputs":[
    {
     "data":{
      "text\/html":[
       "<div>\n",
       "<style scoped>\n",
       "    .dataframe tbody tr th:only-of-type {\n",
       "        vertical-align: middle;\n",
       "    }\n",
       "\n",
       "    .dataframe tbody tr th {\n",
       "        vertical-align: top;\n",
       "    }\n",
       "\n",
       "    .dataframe thead th {\n",
       "        text-align: right;\n",
       "    }\n",
       "<\/style>\n",
       "<table border=\"1\" class=\"dataframe\">\n",
       "  <thead>\n",
       "    <tr style=\"text-align: right;\">\n",
       "      <th>5<\/th>\n",
       "      <th>Datum vypořádání<\/th>\n",
       "      <th>Název cenného papíru<\/th>\n",
       "      <th>ISIN<\/th>\n",
       "      <th>Hrubá dividenda<\/th>\n",
       "      <th>Srážková daň<\/th>\n",
       "      <th>Srážková daň %<\/th>\n",
       "      <th>Issuance fee<\/th>\n",
       "      <th>Měna<\/th>\n",
       "      <th>Kurz ČNB<\/th>\n",
       "      <th>Hrubá dividenda v CZK<\/th>\n",
       "      <th>Srážková daň v CZK<\/th>\n",
       "      <th>Issuance fee v CZK<\/th>\n",
       "    <\/tr>\n",
       "  <\/thead>\n",
       "  <tbody>\n",
       "    <tr>\n",
       "      <th>6<\/th>\n",
       "      <td>2023-03-15 00:00:00<\/td>\n",
       "      <td>iShares STOXX Europe 600<\/td>\n",
       "      <td>DE0002635307<\/td>\n",
       "      <td>1.77<\/td>\n",
       "      <td>0<\/td>\n",
       "      <td>0<\/td>\n",
       "      <td>0<\/td>\n",
       "      <td>EUR<\/td>\n",
       "      <td>23.94<\/td>\n",
       "      <td>42.37<\/td>\n",
       "      <td>0<\/td>\n",
       "      <td>0<\/td>\n",
       "    <\/tr>\n",
       "    <tr>\n",
       "      <th>7<\/th>\n",
       "      <td>2023-05-19 00:00:00<\/td>\n",
       "      <td>ERSTE GROUP BANK<\/td>\n",
       "      <td>AT0000652011<\/td>\n",
       "      <td>11.4<\/td>\n",
       "      <td>3.13<\/td>\n",
       "      <td>27.5<\/td>\n",
       "      <td>0<\/td>\n",
       "      <td>EUR<\/td>\n",
       "      <td>23.755<\/td>\n",
       "      <td>270.81<\/td>\n",
       "      <td>74.35<\/td>\n",
       "      <td>0<\/td>\n",
       "    <\/tr>\n",
       "    <tr>\n",
       "      <th>8<\/th>\n",
       "      <td>2023-06-15 00:00:00<\/td>\n",
       "      <td>iShares STOXX Europe 600<\/td>\n",
       "      <td>DE0002635307<\/td>\n",
       "      <td>6.9<\/td>\n",
       "      <td>0<\/td>\n",
       "      <td>0<\/td>\n",
       "      <td>0<\/td>\n",
       "      <td>EUR<\/td>\n",
       "      <td>23.765<\/td>\n",
       "      <td>163.98<\/td>\n",
       "      <td>0<\/td>\n",
       "      <td>0<\/td>\n",
       "    <\/tr>\n",
       "    <tr>\n",
       "      <th>9<\/th>\n",
       "      <td>2023-09-15 00:00:00<\/td>\n",
       "      <td>iShares STOXX Europe 600<\/td>\n",
       "      <td>DE0002635307<\/td>\n",
       "      <td>5.77<\/td>\n",
       "      <td>0<\/td>\n",
       "      <td>0<\/td>\n",
       "      <td>0<\/td>\n",
       "      <td>EUR<\/td>\n",
       "      <td>24.505<\/td>\n",
       "      <td>141.39<\/td>\n",
       "      <td>0<\/td>\n",
       "      <td>0<\/td>\n",
       "    <\/tr>\n",
       "    <tr>\n",
       "      <th>10<\/th>\n",
       "      <td>2023-12-15 00:00:00<\/td>\n",
       "      <td>iShares STOXX Europe 600<\/td>\n",
       "      <td>DE0002635307<\/td>\n",
       "      <td>2.23<\/td>\n",
       "      <td>0<\/td>\n",
       "      <td>0<\/td>\n",
       "      <td>0<\/td>\n",
       "      <td>EUR<\/td>\n",
       "      <td>24.48<\/td>\n",
       "      <td>54.59<\/td>\n",
       "      <td>0<\/td>\n",
       "      <td>0<\/td>\n",
       "    <\/tr>\n",
       "  <\/tbody>\n",
       "<\/table>\n",
       "<\/div>"
      ]
     },
     "metadata":{
      
     },
     "output_type":"display_data"
    }
   ],
   "metadata":{
    "datalore":{
     "node_id":"Go8eLY4arBoiGOoCIVpJDR",
     "type":"CODE",
     "hide_input_from_viewers":true,
     "hide_output_from_viewers":true
    }
   }
  },
  {
   "cell_type":"code",
   "source":[
    
   ],
   "execution_count":0,
   "outputs":[
    
   ],
   "metadata":{
    "datalore":{
     "node_id":"l9pSUf5I5RRQBFnP6yzUIn",
     "type":"CODE",
     "hide_input_from_viewers":true,
     "hide_output_from_viewers":true
    }
   }
  }
 ],
 "metadata":{
  "kernelspec":{
   "display_name":"Python",
   "language":"python",
   "name":"python"
  },
  "datalore":{
   "computation_mode":"JUPYTER",
   "package_manager":"pip",
   "base_environment":"default",
   "packages":[
    
   ],
   "report_row_ids":[
    
   ],
   "version":3
  }
 },
 "nbformat":4,
 "nbformat_minor":4
}